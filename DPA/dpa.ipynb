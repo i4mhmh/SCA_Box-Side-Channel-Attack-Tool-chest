{
 "cells": [
  {
   "cell_type": "code",
   "execution_count": 2,
   "metadata": {},
   "outputs": [],
   "source": [
    "import numpy as np\n",
    "import h5py\n",
    "import matplotlib.pyplot as plt\n",
    "import json"
   ]
  },
  {
   "cell_type": "code",
   "execution_count": 3,
   "metadata": {},
   "outputs": [],
   "source": [
    "with open('../utils.json', 'r') as f:    \n",
    "    json_data = json.load(f)\n",
    "    file_path = json_data['data']['path']\n",
    "\n",
    "with h5py.File(file_path, 'r') as h5f:\n",
    "    traces = h5f['traces'][()]\n",
    "    plaintexts = h5f['plaintext'][()]\n",
    "    ciphertexts = h5f['ciphertext'][()]\n",
    "    keys = h5f['keys'][()]"
   ]
  },
  {
   "cell_type": "markdown",
   "metadata": {},
   "source": [
    "### Differential Power Analysis (DPA)\n",
    "\n",
    "1. 选择一个泄露模型.\n",
    "2. 找到信噪比最高的点.\n",
    "3. 设置一个Threshold, 遍历可能的密钥, 计算中间值通过Threshold把能量迹分为两组,均值做差.\n",
    "4. 选择差分最大的密钥作为K.\n",
    "\n",
    "\\begin{align}\n",
    "\n",
    "\\triangle D[j] & = \\frac{\\sum_{i = 1}^{m}D(C_i,b,K_s)\\textbf{T}_i(j)}{\\sum_{i = 1}^{m}D(C_i,b,K_s)} - \n",
    "\\frac{\\sum_{i = 1}^{m}(1-D(C_i,b,K_s))\\textbf{T}_i(j)}{\\sum_{i = 1}^{m}(1-D(C_i,b,K_s))}   \\\\\n",
    "&\\approx 2(\\frac{\\sum^{m}_{i=1}D(C_i,b,K_s)\\textbf{T}_i[j]}{\\sum ^{m}_{i=1}D(C_i, b, K_s)} - \\frac{\\sum ^{m}_{i=1}\\textbf{T}_i[j]}{m} )\n",
    "\\end{align}"
   ]
  },
  {
   "cell_type": "code",
   "execution_count": null,
   "metadata": {},
   "outputs": [],
   "source": [
    "import mlscat as cat\n",
    "from tqdm import tqdm\n",
    "def dpa(traces, plaintexts, threshold, target_byte, target_point, leakage_function):\n",
    "    \"\"\"\n",
    "    DPA Attack\n",
    "\n",
    "    This function is just for AES-128, if attack AES-256 or others, plz change it\n",
    "\n",
    "    Parameters\n",
    "    ----------\n",
    "    traces : array\n",
    "    plaintexts : array\n",
    "    threshold : int\n",
    "    target_byte : int\n",
    "    target_point : int\n",
    "    leakage_function : str\n",
    "\n",
    "    Returns\n",
    "    -------\n",
    "    after calculation get the maximum value return candidate_key\n",
    "    \n",
    "    Demo:\n",
    "    ----------\n",
    "    >>> python\n",
    "    ### trace.shape = (2000, 15000), plaintext.shape = (2000, 16)\n",
    "        dpa(traces, plaintexts, threshold=4, target_byte=0, target_point=810, leakage_function='hw')\n",
    "    \"\"\"\n",
    "    candidate_key = []\n",
    "    maximum = 0\n",
    "    mean_diffs = np.zeros(256)\n",
    "    for i in tqdm(range(256)):\n",
    "        traces_group1 = []\n",
    "        traces_group2 = []\n",
    "        for num in range(len(traces)):\n",
    "            mid_val = cat.leakage.hw(cat.utils.AES_Sbox[plaintexts[num][target_byte] ^ i]) if leakage_function.lower() == 'hw' else cat.utils.AES_Sbox[plaintexts[num][target_byte] ^ i]\n",
    "            if mid_val < threshold:\n",
    "                traces_group1.append(traces[num][target_point])\n",
    "            else:\n",
    "                traces_group2.append(traces[num][target_point])\n",
    "        mean_diffs[i] = abs(np.mean(traces_group1) - np.mean(traces_group2))\n",
    "        if mean_diffs[i] > maximum:\n",
    "            maximum = mean_diffs[i]\n",
    "            candidate_key = i\n",
    "    return candidate_key, mean_diffs"
   ]
  },
  {
   "cell_type": "code",
   "execution_count": 16,
   "metadata": {},
   "outputs": [],
   "source": [
    "targets = []\n",
    "for num in range(len(traces)):\n",
    "    targets.append(cat.leakage.hw(cat.utils.AES_Sbox[plaintexts[num][0] ^ keys[num][0]]))\n",
    "pcc = cat.attacks.pcc(targets, np.array(traces))"
   ]
  },
  {
   "cell_type": "code",
   "execution_count": 19,
   "metadata": {},
   "outputs": [
    {
     "name": "stderr",
     "output_type": "stream",
     "text": [
      "100%|██████████| 256/256 [00:01<00:00, 241.25it/s]\n"
     ]
    },
    {
     "data": {
      "text/plain": [
       "(188,\n",
       " array([1.02289798e+02, 2.37567535e+02, 1.08856050e+02, 1.37646223e+02,\n",
       "        3.13101820e+02, 1.41820850e+02, 2.07191204e+02, 6.90420875e+01,\n",
       "        7.91048335e+01, 5.68372219e+01, 5.51536521e+01, 3.02437717e+01,\n",
       "        2.18142646e+02, 6.16161719e+01, 5.37984375e+01, 1.18357752e+02,\n",
       "        1.39378297e+02, 1.04486798e+02, 3.36633582e+02, 2.66961226e+01,\n",
       "        2.33290452e+01, 3.22982096e+02, 3.27087164e+02, 1.06914401e+02,\n",
       "        8.16281879e+01, 3.60903758e+01, 6.77693487e+01, 3.97918422e+02,\n",
       "        1.07274249e+02, 1.40564723e+02, 2.30707882e+02, 3.45196956e+00,\n",
       "        3.91537444e+02, 4.13893484e+01, 2.36450881e+01, 1.74854391e+02,\n",
       "        1.60535330e+02, 1.49465713e+02, 2.71419455e+02, 1.12445214e+02,\n",
       "        2.07418731e+02, 9.65027491e+01, 8.48018496e+01, 5.64825043e+01,\n",
       "        1.71480221e+02, 8.95829466e+01, 1.02815150e+02, 3.70564222e+01,\n",
       "        1.33881081e+02, 1.47330708e+02, 6.29193291e+01, 6.04335275e+01,\n",
       "        4.51779869e+01, 1.67733311e+02, 3.34679208e+01, 1.71382629e+02,\n",
       "        1.73920603e+00, 1.56305301e+02, 1.04351741e+01, 3.65540871e+00,\n",
       "        2.59187674e+02, 1.64668232e+01, 3.66521416e+02, 1.94256868e+02,\n",
       "        1.71664243e+02, 3.10806591e+02, 5.76249267e+01, 2.24058132e+02,\n",
       "        1.41171776e+02, 1.45246983e+02, 8.44567890e+01, 2.45574495e+02,\n",
       "        6.75711813e+01, 4.32755081e+02, 2.40003792e+02, 5.72783019e+01,\n",
       "        1.37049706e+02, 2.75981784e+02, 1.59116620e+02, 3.89080202e+02,\n",
       "        2.71523291e+02, 3.46737381e+01, 4.65885120e+01, 2.39258680e+02,\n",
       "        1.35678981e+02, 1.65264649e+02, 1.96159824e+02, 3.81139600e+01,\n",
       "        1.27238617e+02, 1.73656014e+02, 1.47345653e+02, 1.13295742e+02,\n",
       "        1.44193214e+02, 1.04775781e+02, 2.04444053e+02, 4.03307597e+01,\n",
       "        7.17854329e+01, 2.06480670e+02, 7.00424216e+00, 8.48503014e+01,\n",
       "        8.17784358e+01, 1.71897864e+02, 1.13187750e+02, 3.82407799e+02,\n",
       "        9.39721364e+01, 1.44503646e+02, 2.16844262e+02, 1.44744789e+02,\n",
       "        2.05592441e+02, 2.00097928e+02, 1.20104083e+02, 1.48860992e+02,\n",
       "        1.15126849e+02, 7.70649973e+01, 1.66722098e+02, 4.36773390e+01,\n",
       "        4.69665502e+01, 3.73423642e+02, 3.72882827e+02, 3.68671478e+01,\n",
       "        1.35345490e+02, 5.00913187e+01, 1.79401896e+02, 1.46392293e+02,\n",
       "        2.12794862e+01, 7.73067568e+00, 5.02026569e+01, 1.82118186e+00,\n",
       "        2.23485323e+02, 4.85850581e+01, 3.37648858e+02, 3.70990999e+02,\n",
       "        8.06746753e+01, 1.64313867e+02, 1.46910372e+02, 1.76840157e+02,\n",
       "        3.06015028e+01, 2.61547900e+02, 3.33976000e+01, 2.20067536e+01,\n",
       "        1.80848887e+02, 4.97780651e+01, 1.75358945e+02, 3.98244258e+02,\n",
       "        9.14548418e+01, 4.74934967e+01, 8.36805167e+01, 1.30381429e+02,\n",
       "        1.59242967e+02, 5.56169114e+01, 1.20214334e+02, 2.29285194e+01,\n",
       "        1.96916138e+02, 7.92006523e+01, 1.59204204e+02, 2.53464921e+02,\n",
       "        1.23391507e+02, 1.95758654e+02, 9.07631661e+01, 4.01804833e+02,\n",
       "        1.08484549e+02, 3.60504307e+02, 1.22559082e+02, 1.90567480e+02,\n",
       "        5.64693000e+01, 1.53231588e+02, 1.77098960e+02, 2.09362152e+02,\n",
       "        9.51128109e+01, 1.20012522e+02, 1.80419289e+02, 1.62982403e+02,\n",
       "        1.83254837e+02, 1.29881332e+02, 5.61606191e+01, 6.86762987e+01,\n",
       "        8.75690947e+01, 9.42440131e+01, 2.15095057e+02, 1.54698427e+01,\n",
       "        5.19914968e+01, 1.29345481e+02, 3.68842966e+01, 2.41613757e+02,\n",
       "        1.82402317e+02, 5.07777669e+01, 1.32084342e+02, 9.34267142e+01,\n",
       "        1.63113247e+03, 2.32618518e+01, 1.52437533e+02, 7.22197759e+01,\n",
       "        5.60923513e+01, 1.05767975e+02, 6.38881944e+01, 9.53343485e+01,\n",
       "        5.21296780e+01, 6.74913700e+01, 5.35688760e+01, 5.85540429e+01,\n",
       "        5.77816414e+01, 3.64459691e+02, 1.91229780e+02, 1.40999505e+01,\n",
       "        2.48370940e+02, 1.25888602e+02, 1.23336480e+00, 1.58474389e+02,\n",
       "        1.15018666e+02, 8.93373600e+01, 2.13720357e+02, 6.09638106e+01,\n",
       "        1.22905623e+02, 6.85705658e+01, 4.81299400e+01, 1.63046741e+00,\n",
       "        2.02135773e+02, 2.40022726e+02, 1.09931216e+02, 3.26766718e+01,\n",
       "        7.71005066e+01, 9.76947155e+01, 8.71805630e+00, 1.42420199e+02,\n",
       "        2.86778787e+02, 3.21167157e+01, 6.49415699e+01, 5.17603605e+01,\n",
       "        3.32234691e+01, 1.24142370e+01, 3.07757436e+02, 1.57936075e+02,\n",
       "        2.64186663e+02, 1.44533887e+02, 1.06535125e+02, 8.97384942e+01,\n",
       "        1.37046298e+02, 7.06495702e+01, 2.36053591e+01, 1.05052755e+02,\n",
       "        1.08347913e+02, 2.33195906e+02, 1.50890235e+02, 1.23995661e+02,\n",
       "        1.68853955e+02, 8.01818804e+01, 1.17876855e+02, 6.21637526e+00,\n",
       "        2.88736647e+00, 2.31791135e+02, 1.14338584e+02, 2.25594873e+02,\n",
       "        1.63865333e+02, 2.09907378e+02, 2.23889161e+02, 2.04161438e+01]))"
      ]
     },
     "execution_count": 19,
     "metadata": {},
     "output_type": "execute_result"
    }
   ],
   "source": [
    "dpa(traces, plaintexts, threshold=4, target_byte=0, target_point=810, leakage_function='hw')"
   ]
  },
  {
   "cell_type": "code",
   "execution_count": 20,
   "metadata": {},
   "outputs": [
    {
     "data": {
      "text/plain": [
       "array([[188,  52, 154, ..., 242, 101, 223],\n",
       "       [188,  52, 154, ..., 242, 101, 223],\n",
       "       [188,  52, 154, ..., 242, 101, 223],\n",
       "       ...,\n",
       "       [188,  52, 154, ..., 242, 101, 223],\n",
       "       [188,  52, 154, ..., 242, 101, 223],\n",
       "       [188,  52, 154, ..., 242, 101, 223]], dtype=uint8)"
      ]
     },
     "execution_count": 20,
     "metadata": {},
     "output_type": "execute_result"
    }
   ],
   "source": [
    "keys"
   ]
  },
  {
   "cell_type": "code",
   "execution_count": null,
   "metadata": {},
   "outputs": [],
   "source": []
  }
 ],
 "metadata": {
  "kernelspec": {
   "display_name": "tf",
   "language": "python",
   "name": "python3"
  },
  "language_info": {
   "codemirror_mode": {
    "name": "ipython",
    "version": 3
   },
   "file_extension": ".py",
   "mimetype": "text/x-python",
   "name": "python",
   "nbconvert_exporter": "python",
   "pygments_lexer": "ipython3",
   "version": "3.8.19"
  }
 },
 "nbformat": 4,
 "nbformat_minor": 2
}
