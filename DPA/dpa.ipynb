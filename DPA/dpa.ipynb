{
 "cells": [
  {
   "cell_type": "code",
   "execution_count": 2,
   "metadata": {},
   "outputs": [],
   "source": [
    "import numpy as np\n",
    "import h5py\n",
    "import matplotlib.pyplot as plt\n",
    "import json"
   ]
  },
  {
   "cell_type": "code",
   "execution_count": 3,
   "metadata": {},
   "outputs": [],
   "source": [
    "with open('../utils.json', 'r') as f:    \n",
    "    json_data = json.load(f)\n",
    "    file_path = json_data['data']['path']\n",
    "\n",
    "with h5py.File(file_path, 'r') as h5f:\n",
    "    traces = h5f['traces'][()]\n",
    "    plaintexts = h5f['plaintext'][()]\n",
    "    ciphertexts = h5f['ciphertext'][()]\n",
    "    keys = h5f['keys'][()]"
   ]
  },
  {
   "cell_type": "markdown",
   "metadata": {},
   "source": [
    "### Differential Power Analysis (DPA)\n",
    "\n",
    "$$ \\triangle D[j] = \\frac{\\sum^{m}_{i=1}D(C_i,b,K_s)}{} $$"
   ]
  },
  {
   "cell_type": "code",
   "execution_count": null,
   "metadata": {},
   "outputs": [],
   "source": []
  }
 ],
 "metadata": {
  "kernelspec": {
   "display_name": "tf",
   "language": "python",
   "name": "python3"
  },
  "language_info": {
   "codemirror_mode": {
    "name": "ipython",
    "version": 3
   },
   "file_extension": ".py",
   "mimetype": "text/x-python",
   "name": "python",
   "nbconvert_exporter": "python",
   "pygments_lexer": "ipython3",
   "version": "3.8.19"
  }
 },
 "nbformat": 4,
 "nbformat_minor": 2
}
